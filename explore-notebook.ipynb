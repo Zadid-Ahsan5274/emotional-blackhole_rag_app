{
 "cells": [
  {
   "cell_type": "code",
   "execution_count": 1,
   "metadata": {},
   "outputs": [
    {
     "name": "stdout",
     "output_type": "stream",
     "text": [
      "zsh:1: /Users/zadidahsan/Documents/ABP_PGD_Unit-6_FinalProject_DSAB05030_Zadid-Ahsan-Nabi/Rag_App_Emotion-Blackhole_ABP_PGD_DSBA05030_Zadid-Ahsan-Nabi/.venv/bin/pip3: bad interpreter: /Users/zadidahsan/Documents/ABP_PGD_Unit-6_FinalProject_DSAB05030_Zadid-Ahsan-Nabi/abp_rag_app_practice/.venv/bin/python: no such file or directory\n",
      "Requirement already satisfied: langchain-community in /Users/zadidahsan/Library/Python/3.9/lib/python/site-packages (0.3.18)\n",
      "Requirement already satisfied: SQLAlchemy<3,>=1.4 in /Users/zadidahsan/Library/Python/3.9/lib/python/site-packages (from langchain-community) (2.0.38)\n",
      "Requirement already satisfied: PyYAML>=5.3 in /Users/zadidahsan/Library/Python/3.9/lib/python/site-packages (from langchain-community) (6.0.2)\n",
      "Requirement already satisfied: pydantic-settings<3.0.0,>=2.4.0 in /Users/zadidahsan/Library/Python/3.9/lib/python/site-packages (from langchain-community) (2.8.1)\n",
      "Requirement already satisfied: tenacity!=8.4.0,<10,>=8.1.0 in /Users/zadidahsan/Library/Python/3.9/lib/python/site-packages (from langchain-community) (9.0.0)\n",
      "Requirement already satisfied: numpy<2,>=1.26.4 in /Users/zadidahsan/Library/Python/3.9/lib/python/site-packages (from langchain-community) (1.26.4)\n",
      "Requirement already satisfied: langchain<1.0.0,>=0.3.19 in /Users/zadidahsan/Library/Python/3.9/lib/python/site-packages (from langchain-community) (0.3.19)\n",
      "Requirement already satisfied: aiohttp<4.0.0,>=3.8.3 in /Users/zadidahsan/Library/Python/3.9/lib/python/site-packages (from langchain-community) (3.11.13)\n",
      "Requirement already satisfied: langsmith<0.4,>=0.1.125 in /Users/zadidahsan/Library/Python/3.9/lib/python/site-packages (from langchain-community) (0.3.11)\n",
      "Requirement already satisfied: dataclasses-json<0.7,>=0.5.7 in /Users/zadidahsan/Library/Python/3.9/lib/python/site-packages (from langchain-community) (0.6.7)\n",
      "Requirement already satisfied: httpx-sse<1.0.0,>=0.4.0 in /Users/zadidahsan/Library/Python/3.9/lib/python/site-packages (from langchain-community) (0.4.0)\n",
      "Requirement already satisfied: requests<3,>=2 in /Users/zadidahsan/Library/Python/3.9/lib/python/site-packages (from langchain-community) (2.32.3)\n",
      "Requirement already satisfied: langchain-core<1.0.0,>=0.3.37 in /Users/zadidahsan/Library/Python/3.9/lib/python/site-packages (from langchain-community) (0.3.40)\n",
      "Requirement already satisfied: propcache>=0.2.0 in /Users/zadidahsan/Library/Python/3.9/lib/python/site-packages (from aiohttp<4.0.0,>=3.8.3->langchain-community) (0.3.0)\n",
      "Requirement already satisfied: attrs>=17.3.0 in /Users/zadidahsan/Library/Python/3.9/lib/python/site-packages (from aiohttp<4.0.0,>=3.8.3->langchain-community) (25.1.0)\n",
      "Requirement already satisfied: yarl<2.0,>=1.17.0 in /Users/zadidahsan/Library/Python/3.9/lib/python/site-packages (from aiohttp<4.0.0,>=3.8.3->langchain-community) (1.18.3)\n",
      "Requirement already satisfied: frozenlist>=1.1.1 in /Users/zadidahsan/Library/Python/3.9/lib/python/site-packages (from aiohttp<4.0.0,>=3.8.3->langchain-community) (1.5.0)\n",
      "Requirement already satisfied: aiosignal>=1.1.2 in /Users/zadidahsan/Library/Python/3.9/lib/python/site-packages (from aiohttp<4.0.0,>=3.8.3->langchain-community) (1.3.2)\n",
      "Requirement already satisfied: async-timeout<6.0,>=4.0 in /Users/zadidahsan/Library/Python/3.9/lib/python/site-packages (from aiohttp<4.0.0,>=3.8.3->langchain-community) (4.0.3)\n",
      "Requirement already satisfied: aiohappyeyeballs>=2.3.0 in /Users/zadidahsan/Library/Python/3.9/lib/python/site-packages (from aiohttp<4.0.0,>=3.8.3->langchain-community) (2.4.6)\n",
      "Requirement already satisfied: multidict<7.0,>=4.5 in /Users/zadidahsan/Library/Python/3.9/lib/python/site-packages (from aiohttp<4.0.0,>=3.8.3->langchain-community) (6.1.0)\n",
      "Requirement already satisfied: marshmallow<4.0.0,>=3.18.0 in /Users/zadidahsan/Library/Python/3.9/lib/python/site-packages (from dataclasses-json<0.7,>=0.5.7->langchain-community) (3.26.1)\n",
      "Requirement already satisfied: typing-inspect<1,>=0.4.0 in /Users/zadidahsan/Library/Python/3.9/lib/python/site-packages (from dataclasses-json<0.7,>=0.5.7->langchain-community) (0.9.0)\n",
      "Requirement already satisfied: pydantic<3.0.0,>=2.7.4 in /Users/zadidahsan/Library/Python/3.9/lib/python/site-packages (from langchain<1.0.0,>=0.3.19->langchain-community) (2.10.6)\n",
      "Requirement already satisfied: langchain-text-splitters<1.0.0,>=0.3.6 in /Users/zadidahsan/Library/Python/3.9/lib/python/site-packages (from langchain<1.0.0,>=0.3.19->langchain-community) (0.3.6)\n",
      "Requirement already satisfied: typing-extensions>=4.7 in /Users/zadidahsan/Library/Python/3.9/lib/python/site-packages (from langchain-core<1.0.0,>=0.3.37->langchain-community) (4.12.2)\n",
      "Requirement already satisfied: jsonpatch<2.0,>=1.33 in /Users/zadidahsan/Library/Python/3.9/lib/python/site-packages (from langchain-core<1.0.0,>=0.3.37->langchain-community) (1.33)\n",
      "Requirement already satisfied: packaging<25,>=23.2 in /Users/zadidahsan/Library/Python/3.9/lib/python/site-packages (from langchain-core<1.0.0,>=0.3.37->langchain-community) (24.2)\n",
      "Requirement already satisfied: jsonpointer>=1.9 in /Users/zadidahsan/Library/Python/3.9/lib/python/site-packages (from jsonpatch<2.0,>=1.33->langchain-core<1.0.0,>=0.3.37->langchain-community) (3.0.0)\n",
      "Requirement already satisfied: requests-toolbelt<2.0.0,>=1.0.0 in /Users/zadidahsan/Library/Python/3.9/lib/python/site-packages (from langsmith<0.4,>=0.1.125->langchain-community) (1.0.0)\n",
      "Requirement already satisfied: orjson<4.0.0,>=3.9.14 in /Users/zadidahsan/Library/Python/3.9/lib/python/site-packages (from langsmith<0.4,>=0.1.125->langchain-community) (3.10.15)\n",
      "Requirement already satisfied: httpx<1,>=0.23.0 in /Users/zadidahsan/Library/Python/3.9/lib/python/site-packages (from langsmith<0.4,>=0.1.125->langchain-community) (0.28.1)\n",
      "Requirement already satisfied: zstandard<0.24.0,>=0.23.0 in /Users/zadidahsan/Library/Python/3.9/lib/python/site-packages (from langsmith<0.4,>=0.1.125->langchain-community) (0.23.0)\n",
      "Requirement already satisfied: anyio in /Users/zadidahsan/Library/Python/3.9/lib/python/site-packages (from httpx<1,>=0.23.0->langsmith<0.4,>=0.1.125->langchain-community) (4.8.0)\n",
      "Requirement already satisfied: certifi in /Users/zadidahsan/Library/Python/3.9/lib/python/site-packages (from httpx<1,>=0.23.0->langsmith<0.4,>=0.1.125->langchain-community) (2025.1.31)\n",
      "Requirement already satisfied: idna in /Users/zadidahsan/Library/Python/3.9/lib/python/site-packages (from httpx<1,>=0.23.0->langsmith<0.4,>=0.1.125->langchain-community) (3.10)\n",
      "Requirement already satisfied: httpcore==1.* in /Users/zadidahsan/Library/Python/3.9/lib/python/site-packages (from httpx<1,>=0.23.0->langsmith<0.4,>=0.1.125->langchain-community) (1.0.7)\n",
      "Requirement already satisfied: h11<0.15,>=0.13 in /Users/zadidahsan/Library/Python/3.9/lib/python/site-packages (from httpcore==1.*->httpx<1,>=0.23.0->langsmith<0.4,>=0.1.125->langchain-community) (0.14.0)\n",
      "Requirement already satisfied: annotated-types>=0.6.0 in /Users/zadidahsan/Library/Python/3.9/lib/python/site-packages (from pydantic<3.0.0,>=2.7.4->langchain<1.0.0,>=0.3.19->langchain-community) (0.7.0)\n",
      "Requirement already satisfied: pydantic-core==2.27.2 in /Users/zadidahsan/Library/Python/3.9/lib/python/site-packages (from pydantic<3.0.0,>=2.7.4->langchain<1.0.0,>=0.3.19->langchain-community) (2.27.2)\n",
      "Requirement already satisfied: python-dotenv>=0.21.0 in /Users/zadidahsan/Library/Python/3.9/lib/python/site-packages (from pydantic-settings<3.0.0,>=2.4.0->langchain-community) (1.0.1)\n",
      "Requirement already satisfied: urllib3<3,>=1.21.1 in /Users/zadidahsan/Library/Python/3.9/lib/python/site-packages (from requests<3,>=2->langchain-community) (2.3.0)\n",
      "Requirement already satisfied: charset-normalizer<4,>=2 in /Users/zadidahsan/Library/Python/3.9/lib/python/site-packages (from requests<3,>=2->langchain-community) (3.4.1)\n",
      "Requirement already satisfied: mypy-extensions>=0.3.0 in /Users/zadidahsan/Library/Python/3.9/lib/python/site-packages (from typing-inspect<1,>=0.4.0->dataclasses-json<0.7,>=0.5.7->langchain-community) (1.0.0)\n",
      "Requirement already satisfied: sniffio>=1.1 in /Users/zadidahsan/Library/Python/3.9/lib/python/site-packages (from anyio->httpx<1,>=0.23.0->langsmith<0.4,>=0.1.125->langchain-community) (1.3.1)\n",
      "Requirement already satisfied: exceptiongroup>=1.0.2 in /Users/zadidahsan/Library/Python/3.9/lib/python/site-packages (from anyio->httpx<1,>=0.23.0->langsmith<0.4,>=0.1.125->langchain-community) (1.2.2)\n",
      "\u001b[33mWARNING: You are using pip version 21.1.3; however, version 25.0.1 is available.\n",
      "You should consider upgrading via the '/Library/Frameworks/Python.framework/Versions/3.9/bin/python3.9 -m pip install --upgrade pip' command.\u001b[0m\n"
     ]
    }
   ],
   "source": [
    "!pip3 install --upgrade langchain-community"
   ]
  },
  {
   "cell_type": "code",
   "execution_count": 2,
   "metadata": {},
   "outputs": [
    {
     "name": "stdout",
     "output_type": "stream",
     "text": [
      "zsh:1: /Users/zadidahsan/Documents/ABP_PGD_Unit-6_FinalProject_DSAB05030_Zadid-Ahsan-Nabi/Rag_App_Emotion-Blackhole_ABP_PGD_DSBA05030_Zadid-Ahsan-Nabi/.venv/bin/pip3: bad interpreter: /Users/zadidahsan/Documents/ABP_PGD_Unit-6_FinalProject_DSAB05030_Zadid-Ahsan-Nabi/abp_rag_app_practice/.venv/bin/python: no such file or directory\n",
      "Name: langchain-community\n",
      "Version: 0.3.18\n",
      "Summary: Community contributed LangChain integrations.\n",
      "Home-page: None\n",
      "Author: None\n",
      "Author-email: None\n",
      "License: MIT\n",
      "Location: /Users/zadidahsan/Library/Python/3.9/lib/python/site-packages\n",
      "Requires: PyYAML, aiohttp, pydantic-settings, langsmith, numpy, langchain, dataclasses-json, tenacity, langchain-core, requests, httpx-sse, SQLAlchemy\n",
      "Required-by: \n"
     ]
    }
   ],
   "source": [
    "!pip3 show langchain-community\n"
   ]
  },
  {
   "cell_type": "code",
   "execution_count": 3,
   "metadata": {},
   "outputs": [
    {
     "name": "stdout",
     "output_type": "stream",
     "text": [
      "zsh:1: /Users/zadidahsan/Documents/ABP_PGD_Unit-6_FinalProject_DSAB05030_Zadid-Ahsan-Nabi/Rag_App_Emotion-Blackhole_ABP_PGD_DSBA05030_Zadid-Ahsan-Nabi/.venv/bin/pip3: bad interpreter: /Users/zadidahsan/Documents/ABP_PGD_Unit-6_FinalProject_DSAB05030_Zadid-Ahsan-Nabi/abp_rag_app_practice/.venv/bin/python: no such file or directory\n",
      "Requirement already satisfied: langchain-ollama in /Users/zadidahsan/Library/Python/3.9/lib/python/site-packages (0.2.3)\n",
      "Requirement already satisfied: langchain-core<0.4.0,>=0.3.33 in /Users/zadidahsan/Library/Python/3.9/lib/python/site-packages (from langchain-ollama) (0.3.40)\n",
      "Requirement already satisfied: ollama<1,>=0.4.4 in /Users/zadidahsan/Library/Python/3.9/lib/python/site-packages (from langchain-ollama) (0.4.7)\n",
      "Requirement already satisfied: packaging<25,>=23.2 in /Users/zadidahsan/Library/Python/3.9/lib/python/site-packages (from langchain-core<0.4.0,>=0.3.33->langchain-ollama) (24.2)\n",
      "Requirement already satisfied: langsmith<0.4,>=0.1.125 in /Users/zadidahsan/Library/Python/3.9/lib/python/site-packages (from langchain-core<0.4.0,>=0.3.33->langchain-ollama) (0.3.11)\n",
      "Requirement already satisfied: tenacity!=8.4.0,<10.0.0,>=8.1.0 in /Users/zadidahsan/Library/Python/3.9/lib/python/site-packages (from langchain-core<0.4.0,>=0.3.33->langchain-ollama) (9.0.0)\n",
      "Requirement already satisfied: typing-extensions>=4.7 in /Users/zadidahsan/Library/Python/3.9/lib/python/site-packages (from langchain-core<0.4.0,>=0.3.33->langchain-ollama) (4.12.2)\n",
      "Requirement already satisfied: jsonpatch<2.0,>=1.33 in /Users/zadidahsan/Library/Python/3.9/lib/python/site-packages (from langchain-core<0.4.0,>=0.3.33->langchain-ollama) (1.33)\n",
      "Requirement already satisfied: pydantic<3.0.0,>=2.5.2 in /Users/zadidahsan/Library/Python/3.9/lib/python/site-packages (from langchain-core<0.4.0,>=0.3.33->langchain-ollama) (2.10.6)\n",
      "Requirement already satisfied: PyYAML>=5.3 in /Users/zadidahsan/Library/Python/3.9/lib/python/site-packages (from langchain-core<0.4.0,>=0.3.33->langchain-ollama) (6.0.2)\n",
      "Requirement already satisfied: jsonpointer>=1.9 in /Users/zadidahsan/Library/Python/3.9/lib/python/site-packages (from jsonpatch<2.0,>=1.33->langchain-core<0.4.0,>=0.3.33->langchain-ollama) (3.0.0)\n",
      "Requirement already satisfied: httpx<1,>=0.23.0 in /Users/zadidahsan/Library/Python/3.9/lib/python/site-packages (from langsmith<0.4,>=0.1.125->langchain-core<0.4.0,>=0.3.33->langchain-ollama) (0.28.1)\n",
      "Requirement already satisfied: requests-toolbelt<2.0.0,>=1.0.0 in /Users/zadidahsan/Library/Python/3.9/lib/python/site-packages (from langsmith<0.4,>=0.1.125->langchain-core<0.4.0,>=0.3.33->langchain-ollama) (1.0.0)\n",
      "Requirement already satisfied: orjson<4.0.0,>=3.9.14 in /Users/zadidahsan/Library/Python/3.9/lib/python/site-packages (from langsmith<0.4,>=0.1.125->langchain-core<0.4.0,>=0.3.33->langchain-ollama) (3.10.15)\n",
      "Requirement already satisfied: requests<3,>=2 in /Users/zadidahsan/Library/Python/3.9/lib/python/site-packages (from langsmith<0.4,>=0.1.125->langchain-core<0.4.0,>=0.3.33->langchain-ollama) (2.32.3)\n",
      "Requirement already satisfied: zstandard<0.24.0,>=0.23.0 in /Users/zadidahsan/Library/Python/3.9/lib/python/site-packages (from langsmith<0.4,>=0.1.125->langchain-core<0.4.0,>=0.3.33->langchain-ollama) (0.23.0)\n",
      "Requirement already satisfied: httpcore==1.* in /Users/zadidahsan/Library/Python/3.9/lib/python/site-packages (from httpx<1,>=0.23.0->langsmith<0.4,>=0.1.125->langchain-core<0.4.0,>=0.3.33->langchain-ollama) (1.0.7)\n",
      "Requirement already satisfied: certifi in /Users/zadidahsan/Library/Python/3.9/lib/python/site-packages (from httpx<1,>=0.23.0->langsmith<0.4,>=0.1.125->langchain-core<0.4.0,>=0.3.33->langchain-ollama) (2025.1.31)\n",
      "Requirement already satisfied: anyio in /Users/zadidahsan/Library/Python/3.9/lib/python/site-packages (from httpx<1,>=0.23.0->langsmith<0.4,>=0.1.125->langchain-core<0.4.0,>=0.3.33->langchain-ollama) (4.8.0)\n",
      "Requirement already satisfied: idna in /Users/zadidahsan/Library/Python/3.9/lib/python/site-packages (from httpx<1,>=0.23.0->langsmith<0.4,>=0.1.125->langchain-core<0.4.0,>=0.3.33->langchain-ollama) (3.10)\n",
      "Requirement already satisfied: h11<0.15,>=0.13 in /Users/zadidahsan/Library/Python/3.9/lib/python/site-packages (from httpcore==1.*->httpx<1,>=0.23.0->langsmith<0.4,>=0.1.125->langchain-core<0.4.0,>=0.3.33->langchain-ollama) (0.14.0)\n",
      "Requirement already satisfied: annotated-types>=0.6.0 in /Users/zadidahsan/Library/Python/3.9/lib/python/site-packages (from pydantic<3.0.0,>=2.5.2->langchain-core<0.4.0,>=0.3.33->langchain-ollama) (0.7.0)\n",
      "Requirement already satisfied: pydantic-core==2.27.2 in /Users/zadidahsan/Library/Python/3.9/lib/python/site-packages (from pydantic<3.0.0,>=2.5.2->langchain-core<0.4.0,>=0.3.33->langchain-ollama) (2.27.2)\n",
      "Requirement already satisfied: charset-normalizer<4,>=2 in /Users/zadidahsan/Library/Python/3.9/lib/python/site-packages (from requests<3,>=2->langsmith<0.4,>=0.1.125->langchain-core<0.4.0,>=0.3.33->langchain-ollama) (3.4.1)\n",
      "Requirement already satisfied: urllib3<3,>=1.21.1 in /Users/zadidahsan/Library/Python/3.9/lib/python/site-packages (from requests<3,>=2->langsmith<0.4,>=0.1.125->langchain-core<0.4.0,>=0.3.33->langchain-ollama) (2.3.0)\n",
      "Requirement already satisfied: exceptiongroup>=1.0.2 in /Users/zadidahsan/Library/Python/3.9/lib/python/site-packages (from anyio->httpx<1,>=0.23.0->langsmith<0.4,>=0.1.125->langchain-core<0.4.0,>=0.3.33->langchain-ollama) (1.2.2)\n",
      "Requirement already satisfied: sniffio>=1.1 in /Users/zadidahsan/Library/Python/3.9/lib/python/site-packages (from anyio->httpx<1,>=0.23.0->langsmith<0.4,>=0.1.125->langchain-core<0.4.0,>=0.3.33->langchain-ollama) (1.3.1)\n",
      "\u001b[33mWARNING: You are using pip version 21.1.3; however, version 25.0.1 is available.\n",
      "You should consider upgrading via the '/Library/Frameworks/Python.framework/Versions/3.9/bin/python3.9 -m pip install --upgrade pip' command.\u001b[0m\n"
     ]
    }
   ],
   "source": [
    "!pip3 install -U langchain-ollama"
   ]
  },
  {
   "cell_type": "code",
   "execution_count": 4,
   "metadata": {},
   "outputs": [
    {
     "name": "stderr",
     "output_type": "stream",
     "text": [
      "/Users/zadidahsan/Documents/ABP_PGD_Unit-6_FinalProject_DSAB05030_Zadid-Ahsan-Nabi/Rag_App_Emotion-Blackhole_ABP_PGD_DSBA05030_Zadid-Ahsan-Nabi/.venv/lib/python3.9/site-packages/urllib3/__init__.py:35: NotOpenSSLWarning: urllib3 v2 only supports OpenSSL 1.1.1+, currently the 'ssl' module is compiled with 'LibreSSL 2.8.3'. See: https://github.com/urllib3/urllib3/issues/3020\n",
      "  warnings.warn(\n"
     ]
    }
   ],
   "source": [
    "from langchain_ollama import OllamaLLM\n",
    "llm = OllamaLLM(model=\"phi3:latest\")"
   ]
  },
  {
   "cell_type": "code",
   "execution_count": 4,
   "metadata": {},
   "outputs": [],
   "source": [
    "result = llm.invoke(\"What is emotional blackhole?\")"
   ]
  },
  {
   "cell_type": "code",
   "execution_count": 5,
   "metadata": {},
   "outputs": [
    {
     "data": {
      "text/plain": [
       "'An \"emotional black hole\" refers to a situation or experience that consumes an individual\\'s mental and emotional energy, leaving them feeling drained without providing any positive return. This term can be used metapranonomically to describe situations like enduring constant criticism from peers at work where no resolution is in sight, leading to feelings of frustration, sadness or helplessness that seem insatiable and unending – akin to being sucked into an emotional void. It\\'s important for individuals experiencing such scenarios to find healthy coping mechanisms like seeking support from friends, family, professionals, practicing mindfulness, engaging in physical activity or hobbies that bring joy, and setting boundaries where possible to regain their mental energy and balance.'"
      ]
     },
     "execution_count": 5,
     "metadata": {},
     "output_type": "execute_result"
    }
   ],
   "source": [
    "result"
   ]
  },
  {
   "cell_type": "code",
   "execution_count": 6,
   "metadata": {},
   "outputs": [
    {
     "name": "stdout",
     "output_type": "stream",
     "text": [
      "zsh:1: /Users/zadidahsan/Documents/ABP_PGD_Unit-6_FinalProject_DSAB05030_Zadid-Ahsan-Nabi/Rag_App_Emotion-Blackhole_ABP_PGD_DSBA05030_Zadid-Ahsan-Nabi/.venv/bin/pip3: bad interpreter: /Users/zadidahsan/Documents/ABP_PGD_Unit-6_FinalProject_DSAB05030_Zadid-Ahsan-Nabi/abp_rag_app_practice/.venv/bin/python: no such file or directory\n",
      "Requirement already satisfied: langchain in /Users/zadidahsan/Library/Python/3.9/lib/python/site-packages (0.3.19)\n",
      "Requirement already satisfied: langchain-community in /Users/zadidahsan/Library/Python/3.9/lib/python/site-packages (0.3.18)\n",
      "Requirement already satisfied: langchain-core in /Users/zadidahsan/Library/Python/3.9/lib/python/site-packages (0.3.40)\n",
      "Requirement already satisfied: langchain-openai in /Users/zadidahsan/Library/Python/3.9/lib/python/site-packages (0.3.7)\n",
      "Requirement already satisfied: pydantic<3.0.0,>=2.7.4 in /Users/zadidahsan/Library/Python/3.9/lib/python/site-packages (from langchain) (2.10.6)\n",
      "Requirement already satisfied: requests<3,>=2 in /Users/zadidahsan/Library/Python/3.9/lib/python/site-packages (from langchain) (2.32.3)\n",
      "Requirement already satisfied: tenacity!=8.4.0,<10,>=8.1.0 in /Users/zadidahsan/Library/Python/3.9/lib/python/site-packages (from langchain) (9.0.0)\n",
      "Requirement already satisfied: aiohttp<4.0.0,>=3.8.3 in /Users/zadidahsan/Library/Python/3.9/lib/python/site-packages (from langchain) (3.11.13)\n",
      "Requirement already satisfied: langsmith<0.4,>=0.1.17 in /Users/zadidahsan/Library/Python/3.9/lib/python/site-packages (from langchain) (0.3.11)\n",
      "Requirement already satisfied: SQLAlchemy<3,>=1.4 in /Users/zadidahsan/Library/Python/3.9/lib/python/site-packages (from langchain) (2.0.38)\n",
      "Requirement already satisfied: langchain-text-splitters<1.0.0,>=0.3.6 in /Users/zadidahsan/Library/Python/3.9/lib/python/site-packages (from langchain) (0.3.6)\n",
      "Requirement already satisfied: numpy<2,>=1.26.4 in /Users/zadidahsan/Library/Python/3.9/lib/python/site-packages (from langchain) (1.26.4)\n",
      "Requirement already satisfied: PyYAML>=5.3 in /Users/zadidahsan/Library/Python/3.9/lib/python/site-packages (from langchain) (6.0.2)\n",
      "Requirement already satisfied: async-timeout<5.0.0,>=4.0.0 in /Users/zadidahsan/Library/Python/3.9/lib/python/site-packages (from langchain) (4.0.3)\n",
      "Requirement already satisfied: packaging<25,>=23.2 in /Users/zadidahsan/Library/Python/3.9/lib/python/site-packages (from langchain-core) (24.2)\n",
      "Requirement already satisfied: jsonpatch<2.0,>=1.33 in /Users/zadidahsan/Library/Python/3.9/lib/python/site-packages (from langchain-core) (1.33)\n",
      "Requirement already satisfied: typing-extensions>=4.7 in /Users/zadidahsan/Library/Python/3.9/lib/python/site-packages (from langchain-core) (4.12.2)\n",
      "Requirement already satisfied: aiohappyeyeballs>=2.3.0 in /Users/zadidahsan/Library/Python/3.9/lib/python/site-packages (from aiohttp<4.0.0,>=3.8.3->langchain) (2.4.6)\n",
      "Requirement already satisfied: attrs>=17.3.0 in /Users/zadidahsan/Library/Python/3.9/lib/python/site-packages (from aiohttp<4.0.0,>=3.8.3->langchain) (25.1.0)\n",
      "Requirement already satisfied: aiosignal>=1.1.2 in /Users/zadidahsan/Library/Python/3.9/lib/python/site-packages (from aiohttp<4.0.0,>=3.8.3->langchain) (1.3.2)\n",
      "Requirement already satisfied: yarl<2.0,>=1.17.0 in /Users/zadidahsan/Library/Python/3.9/lib/python/site-packages (from aiohttp<4.0.0,>=3.8.3->langchain) (1.18.3)\n",
      "Requirement already satisfied: multidict<7.0,>=4.5 in /Users/zadidahsan/Library/Python/3.9/lib/python/site-packages (from aiohttp<4.0.0,>=3.8.3->langchain) (6.1.0)\n",
      "Requirement already satisfied: propcache>=0.2.0 in /Users/zadidahsan/Library/Python/3.9/lib/python/site-packages (from aiohttp<4.0.0,>=3.8.3->langchain) (0.3.0)\n",
      "Requirement already satisfied: frozenlist>=1.1.1 in /Users/zadidahsan/Library/Python/3.9/lib/python/site-packages (from aiohttp<4.0.0,>=3.8.3->langchain) (1.5.0)\n",
      "Requirement already satisfied: jsonpointer>=1.9 in /Users/zadidahsan/Library/Python/3.9/lib/python/site-packages (from jsonpatch<2.0,>=1.33->langchain-core) (3.0.0)\n",
      "Requirement already satisfied: requests-toolbelt<2.0.0,>=1.0.0 in /Users/zadidahsan/Library/Python/3.9/lib/python/site-packages (from langsmith<0.4,>=0.1.17->langchain) (1.0.0)\n",
      "Requirement already satisfied: httpx<1,>=0.23.0 in /Users/zadidahsan/Library/Python/3.9/lib/python/site-packages (from langsmith<0.4,>=0.1.17->langchain) (0.28.1)\n",
      "Requirement already satisfied: orjson<4.0.0,>=3.9.14 in /Users/zadidahsan/Library/Python/3.9/lib/python/site-packages (from langsmith<0.4,>=0.1.17->langchain) (3.10.15)\n",
      "Requirement already satisfied: zstandard<0.24.0,>=0.23.0 in /Users/zadidahsan/Library/Python/3.9/lib/python/site-packages (from langsmith<0.4,>=0.1.17->langchain) (0.23.0)\n",
      "Requirement already satisfied: httpcore==1.* in /Users/zadidahsan/Library/Python/3.9/lib/python/site-packages (from httpx<1,>=0.23.0->langsmith<0.4,>=0.1.17->langchain) (1.0.7)\n",
      "Requirement already satisfied: idna in /Users/zadidahsan/Library/Python/3.9/lib/python/site-packages (from httpx<1,>=0.23.0->langsmith<0.4,>=0.1.17->langchain) (3.10)\n",
      "Requirement already satisfied: certifi in /Users/zadidahsan/Library/Python/3.9/lib/python/site-packages (from httpx<1,>=0.23.0->langsmith<0.4,>=0.1.17->langchain) (2025.1.31)\n",
      "Requirement already satisfied: anyio in /Users/zadidahsan/Library/Python/3.9/lib/python/site-packages (from httpx<1,>=0.23.0->langsmith<0.4,>=0.1.17->langchain) (4.8.0)\n",
      "Requirement already satisfied: h11<0.15,>=0.13 in /Users/zadidahsan/Library/Python/3.9/lib/python/site-packages (from httpcore==1.*->httpx<1,>=0.23.0->langsmith<0.4,>=0.1.17->langchain) (0.14.0)\n",
      "Requirement already satisfied: annotated-types>=0.6.0 in /Users/zadidahsan/Library/Python/3.9/lib/python/site-packages (from pydantic<3.0.0,>=2.7.4->langchain) (0.7.0)\n",
      "Requirement already satisfied: pydantic-core==2.27.2 in /Users/zadidahsan/Library/Python/3.9/lib/python/site-packages (from pydantic<3.0.0,>=2.7.4->langchain) (2.27.2)\n",
      "Requirement already satisfied: charset-normalizer<4,>=2 in /Users/zadidahsan/Library/Python/3.9/lib/python/site-packages (from requests<3,>=2->langchain) (3.4.1)\n",
      "Requirement already satisfied: urllib3<3,>=1.21.1 in /Users/zadidahsan/Library/Python/3.9/lib/python/site-packages (from requests<3,>=2->langchain) (2.3.0)\n",
      "Requirement already satisfied: httpx-sse<1.0.0,>=0.4.0 in /Users/zadidahsan/Library/Python/3.9/lib/python/site-packages (from langchain-community) (0.4.0)\n",
      "Requirement already satisfied: pydantic-settings<3.0.0,>=2.4.0 in /Users/zadidahsan/Library/Python/3.9/lib/python/site-packages (from langchain-community) (2.8.1)\n",
      "Requirement already satisfied: dataclasses-json<0.7,>=0.5.7 in /Users/zadidahsan/Library/Python/3.9/lib/python/site-packages (from langchain-community) (0.6.7)\n",
      "Requirement already satisfied: marshmallow<4.0.0,>=3.18.0 in /Users/zadidahsan/Library/Python/3.9/lib/python/site-packages (from dataclasses-json<0.7,>=0.5.7->langchain-community) (3.26.1)\n",
      "Requirement already satisfied: typing-inspect<1,>=0.4.0 in /Users/zadidahsan/Library/Python/3.9/lib/python/site-packages (from dataclasses-json<0.7,>=0.5.7->langchain-community) (0.9.0)\n",
      "Requirement already satisfied: python-dotenv>=0.21.0 in /Users/zadidahsan/Library/Python/3.9/lib/python/site-packages (from pydantic-settings<3.0.0,>=2.4.0->langchain-community) (1.0.1)\n",
      "Requirement already satisfied: mypy-extensions>=0.3.0 in /Users/zadidahsan/Library/Python/3.9/lib/python/site-packages (from typing-inspect<1,>=0.4.0->dataclasses-json<0.7,>=0.5.7->langchain-community) (1.0.0)\n",
      "Requirement already satisfied: openai<2.0.0,>=1.58.1 in /Users/zadidahsan/Library/Python/3.9/lib/python/site-packages (from langchain-openai) (1.64.0)\n",
      "Requirement already satisfied: tiktoken<1,>=0.7 in /Users/zadidahsan/Library/Python/3.9/lib/python/site-packages (from langchain-openai) (0.9.0)\n",
      "Requirement already satisfied: tqdm>4 in /Users/zadidahsan/Library/Python/3.9/lib/python/site-packages (from openai<2.0.0,>=1.58.1->langchain-openai) (4.67.1)\n",
      "Requirement already satisfied: jiter<1,>=0.4.0 in /Users/zadidahsan/Library/Python/3.9/lib/python/site-packages (from openai<2.0.0,>=1.58.1->langchain-openai) (0.8.2)\n",
      "Requirement already satisfied: sniffio in /Users/zadidahsan/Library/Python/3.9/lib/python/site-packages (from openai<2.0.0,>=1.58.1->langchain-openai) (1.3.1)\n",
      "Requirement already satisfied: distro<2,>=1.7.0 in /Users/zadidahsan/Library/Python/3.9/lib/python/site-packages (from openai<2.0.0,>=1.58.1->langchain-openai) (1.9.0)\n",
      "Requirement already satisfied: exceptiongroup>=1.0.2 in /Users/zadidahsan/Library/Python/3.9/lib/python/site-packages (from anyio->httpx<1,>=0.23.0->langsmith<0.4,>=0.1.17->langchain) (1.2.2)\n",
      "Requirement already satisfied: regex>=2022.1.18 in /Users/zadidahsan/Library/Python/3.9/lib/python/site-packages (from tiktoken<1,>=0.7->langchain-openai) (2024.11.6)\n",
      "\u001b[33mWARNING: You are using pip version 21.1.3; however, version 25.0.1 is available.\n",
      "You should consider upgrading via the '/Library/Frameworks/Python.framework/Versions/3.9/bin/python3.9 -m pip install --upgrade pip' command.\u001b[0m\n"
     ]
    }
   ],
   "source": [
    "!pip3 install --upgrade langchain langchain-community langchain-core langchain-openai"
   ]
  },
  {
   "cell_type": "code",
   "execution_count": 5,
   "metadata": {},
   "outputs": [
    {
     "name": "stdout",
     "output_type": "stream",
     "text": [
      "zsh:1: /Users/zadidahsan/Documents/ABP_PGD_Unit-6_FinalProject_DSAB05030_Zadid-Ahsan-Nabi/Rag_App_Emotion-Blackhole_ABP_PGD_DSBA05030_Zadid-Ahsan-Nabi/.venv/bin/pip3: bad interpreter: /Users/zadidahsan/Documents/ABP_PGD_Unit-6_FinalProject_DSAB05030_Zadid-Ahsan-Nabi/abp_rag_app_practice/.venv/bin/python: no such file or directory\n",
      "langchain                 0.3.19\n",
      "langchain-community       0.3.18\n",
      "langchain-core            0.3.40\n",
      "langchain-ollama          0.2.3\n",
      "langchain-openai          0.3.7\n",
      "langchain-text-splitters  0.3.6\n",
      "\u001b[33mWARNING: You are using pip version 21.1.3; however, version 25.0.1 is available.\n",
      "You should consider upgrading via the '/Library/Frameworks/Python.framework/Versions/3.9/bin/python3.9 -m pip install --upgrade pip' command.\u001b[0m\n"
     ]
    }
   ],
   "source": [
    "!pip3 list | grep langchain\n"
   ]
  },
  {
   "cell_type": "code",
   "execution_count": 6,
   "metadata": {},
   "outputs": [],
   "source": [
    "from langchain_core.prompts import ChatPromptTemplate\n",
    "prompt = ChatPromptTemplate.from_messages([\n",
    "    (\"system\",\"You are a world class technical writer. You have been asked to write a blog post on the topic of 'Emotional Blackhole'.\"),\n",
    "    (\"user\",\"{input}\")\n",
    "])"
   ]
  },
  {
   "cell_type": "code",
   "execution_count": 9,
   "metadata": {},
   "outputs": [],
   "source": [
    "chain = prompt | llm"
   ]
  },
  {
   "cell_type": "code",
   "execution_count": null,
   "metadata": {},
   "outputs": [],
   "source": [
    "chain.invoke({\"input\":\"Write a blog post on the topic of 'Emotional Blackhole'.\"})"
   ]
  },
  {
   "cell_type": "markdown",
   "metadata": {},
   "source": [
    "<h1> RAG App </h1>"
   ]
  },
  {
   "cell_type": "code",
   "execution_count": 7,
   "metadata": {},
   "outputs": [],
   "source": [
    "from langchain_community.document_loaders import TextLoader"
   ]
  },
  {
   "cell_type": "code",
   "execution_count": 8,
   "metadata": {},
   "outputs": [],
   "source": [
    "loader = TextLoader(\"psy-article.txt\")"
   ]
  },
  {
   "cell_type": "code",
   "execution_count": 9,
   "metadata": {},
   "outputs": [],
   "source": [
    "loader\n",
    "document = loader.load()"
   ]
  },
  {
   "cell_type": "code",
   "execution_count": 10,
   "metadata": {},
   "outputs": [
    {
     "name": "stdout",
     "output_type": "stream",
     "text": [
      "[Document(metadata={'source': 'psy-article.txt'}, page_content='At some point during a career, most people have the misfortune of drawing the proverbial short straw.  Perhaps you were passed over for an assignment or promotion you absolutely believe should have been yours.  Or perhaps you were laid off through no fault of your own due to consolidation, a merger, downsizing, or the simple failure of the business you chose to join.\\nMy own favorite short straw involves inheriting the “boss from hell”.  This reality often never stops causing pain.  Every day comes some new manifestation of poor management that gradually wears us down physically and emotionally.\\nNo wonder in any of these situations we often feel like a victim. The feelings that usually accompany this state of mind are quite natural and understandable:  anger, frustration, defeatism, a sense of unfairness, depression, and perhaps worst of all, a feeling of impotence or sense that it is somehow our fault or just due.\\nTo deny these feelings is foolish; we are only human after all.  But how long should we wallow in these negative emotions, entertain and encourage them, or share them with others?  NOT LONG, I say, if we know what is good for us.  An unrelenting victim’s mentality is an emotional black hole.  The longer it persists the deeper and darker our emotional state becomes and the more we are likely to feel paralyzed when it comes to doing something about it.\\nHow does one escape or survive when there is no immediate exit from the situation in which you find yourself?  While I am no expert on such matters, I have always found two important steps a great way to begin.  Both are primarily mental, involve a different mind-set, and are absolutely within the realm of things we control.')]\n"
     ]
    }
   ],
   "source": [
    "print(document)"
   ]
  },
  {
   "cell_type": "code",
   "execution_count": 11,
   "metadata": {},
   "outputs": [],
   "source": [
    "from langchain_text_splitters import RecursiveCharacterTextSplitter\n",
    "text_splitter = RecursiveCharacterTextSplitter(chunk_size=300, chunk_overlap=50)\n",
    "docs = text_splitter.split_documents(document)"
   ]
  },
  {
   "cell_type": "code",
   "execution_count": 15,
   "metadata": {},
   "outputs": [
    {
     "data": {
      "text/plain": [
       "[Document(metadata={'source': 'psy-article.txt'}, page_content='At some point during a career, most people have the misfortune of drawing the proverbial short straw.  Perhaps you were passed over for an assignment or promotion you absolutely believe should have been yours.  Or perhaps you were laid off through no fault of your own due to consolidation, a merger,'),\n",
       " Document(metadata={'source': 'psy-article.txt'}, page_content='fault of your own due to consolidation, a merger, downsizing, or the simple failure of the business you chose to join.'),\n",
       " Document(metadata={'source': 'psy-article.txt'}, page_content='My own favorite short straw involves inheriting the “boss from hell”.  This reality often never stops causing pain.  Every day comes some new manifestation of poor management that gradually wears us down physically and emotionally.'),\n",
       " Document(metadata={'source': 'psy-article.txt'}, page_content='No wonder in any of these situations we often feel like a victim. The feelings that usually accompany this state of mind are quite natural and understandable:  anger, frustration, defeatism, a sense of unfairness, depression, and perhaps worst of all, a feeling of impotence or sense that it is'),\n",
       " Document(metadata={'source': 'psy-article.txt'}, page_content='all, a feeling of impotence or sense that it is somehow our fault or just due.'),\n",
       " Document(metadata={'source': 'psy-article.txt'}, page_content='To deny these feelings is foolish; we are only human after all.  But how long should we wallow in these negative emotions, entertain and encourage them, or share them with others?  NOT LONG, I say, if we know what is good for us.  An unrelenting victim’s mentality is an emotional black hole.  The'),\n",
       " Document(metadata={'source': 'psy-article.txt'}, page_content='mentality is an emotional black hole.  The longer it persists the deeper and darker our emotional state becomes and the more we are likely to feel paralyzed when it comes to doing something about it.'),\n",
       " Document(metadata={'source': 'psy-article.txt'}, page_content='How does one escape or survive when there is no immediate exit from the situation in which you find yourself?  While I am no expert on such matters, I have always found two important steps a great way to begin.  Both are primarily mental, involve a different mind-set, and are absolutely within the'),\n",
       " Document(metadata={'source': 'psy-article.txt'}, page_content='different mind-set, and are absolutely within the realm of things we control.')]"
      ]
     },
     "execution_count": 15,
     "metadata": {},
     "output_type": "execute_result"
    }
   ],
   "source": [
    "docs"
   ]
  },
  {
   "cell_type": "code",
   "execution_count": 12,
   "metadata": {},
   "outputs": [
    {
     "data": {
      "text/plain": [
       "9"
      ]
     },
     "execution_count": 12,
     "metadata": {},
     "output_type": "execute_result"
    }
   ],
   "source": [
    "len(docs)"
   ]
  },
  {
   "cell_type": "code",
   "execution_count": 13,
   "metadata": {},
   "outputs": [
    {
     "data": {
      "text/plain": [
       "Document(metadata={'source': 'psy-article.txt'}, page_content='At some point during a career, most people have the misfortune of drawing the proverbial short straw.  Perhaps you were passed over for an assignment or promotion you absolutely believe should have been yours.  Or perhaps you were laid off through no fault of your own due to consolidation, a merger,')"
      ]
     },
     "execution_count": 13,
     "metadata": {},
     "output_type": "execute_result"
    }
   ],
   "source": [
    "docs[0]"
   ]
  },
  {
   "cell_type": "code",
   "execution_count": 14,
   "metadata": {},
   "outputs": [
    {
     "data": {
      "text/plain": [
       "Document(metadata={'source': 'psy-article.txt'}, page_content='fault of your own due to consolidation, a merger, downsizing, or the simple failure of the business you chose to join.')"
      ]
     },
     "execution_count": 14,
     "metadata": {},
     "output_type": "execute_result"
    }
   ],
   "source": [
    "docs[1]"
   ]
  },
  {
   "cell_type": "code",
   "execution_count": 18,
   "metadata": {},
   "outputs": [
    {
     "name": "stdout",
     "output_type": "stream",
     "text": [
      "NAME                       ID              SIZE      MODIFIED   \n",
      "nomic-embed-text:latest    0a109f422b47    274 MB    2 days ago    \n",
      "phi3:latest                4f2222927938    2.2 GB    2 days ago    \n",
      "deepseek-r1:8b             28f8fd6cdc67    4.9 GB    2 days ago    \n",
      "deepseek-llm:latest        9aab369a853b    4.0 GB    5 days ago    \n"
     ]
    }
   ],
   "source": [
    "!ollama list"
   ]
  },
  {
   "cell_type": "code",
   "execution_count": 19,
   "metadata": {},
   "outputs": [
    {
     "name": "stdout",
     "output_type": "stream",
     "text": [
      "\u001b[?25l\u001b[?2026h\u001b[?25l\u001b[1G\u001b[K\u001b[?25h\u001b[?2026l\u001b[2K\u001b[1G\u001b[?25hError: \"nomic-embed-text:latest\" does not support generate\n"
     ]
    }
   ],
   "source": [
    "!ollama run nomic-embed-text:latest"
   ]
  },
  {
   "cell_type": "code",
   "execution_count": 20,
   "metadata": {},
   "outputs": [
    {
     "name": "stdout",
     "output_type": "stream",
     "text": [
      "zsh:1: /Users/zadidahsan/Documents/ABP_PGD_Unit-6_FinalProject_DSAB05030_Zadid-Ahsan-Nabi/Rag_App_Emotion-Blackhole_ABP_PGD_DSBA05030_Zadid-Ahsan-Nabi/.venv/bin/pip3: bad interpreter: /Users/zadidahsan/Documents/ABP_PGD_Unit-6_FinalProject_DSAB05030_Zadid-Ahsan-Nabi/abp_rag_app_practice/.venv/bin/python: no such file or directory\n",
      "\u001b[33mWARNING: You are using pip version 21.1.3; however, version 25.0.1 is available.\n",
      "You should consider upgrading via the '/Library/Frameworks/Python.framework/Versions/3.9/bin/python3.9 -m pip install --upgrade pip' command.\u001b[0m\n"
     ]
    }
   ],
   "source": [
    "!pip3 install -qU langchain-community faiss-cpu"
   ]
  },
  {
   "cell_type": "code",
   "execution_count": 31,
   "metadata": {},
   "outputs": [
    {
     "name": "stdout",
     "output_type": "stream",
     "text": [
      "Defaulting to user installation because normal site-packages is not writeable\n",
      "Collecting black\n",
      "  Downloading black-25.1.0-cp39-cp39-macosx_11_0_arm64.whl (1.5 MB)\n",
      "\u001b[K     |████████████████████████████████| 1.5 MB 415 kB/s eta 0:00:01\n",
      "\u001b[?25hRequirement already satisfied: platformdirs>=2 in /Users/zadidahsan/Library/Python/3.9/lib/python/site-packages (from black) (4.3.6)\n",
      "Collecting pathspec>=0.9.0\n",
      "  Downloading pathspec-0.12.1-py3-none-any.whl (31 kB)\n",
      "Requirement already satisfied: typing-extensions>=4.0.1 in /Users/zadidahsan/Library/Python/3.9/lib/python/site-packages (from black) (4.12.2)\n",
      "Requirement already satisfied: mypy-extensions>=0.4.3 in /Users/zadidahsan/Library/Python/3.9/lib/python/site-packages (from black) (1.0.0)\n",
      "Requirement already satisfied: packaging>=22.0 in /Users/zadidahsan/Library/Python/3.9/lib/python/site-packages (from black) (24.2)\n",
      "Collecting tomli>=1.1.0\n",
      "  Downloading tomli-2.2.1-py3-none-any.whl (14 kB)\n",
      "Collecting click>=8.0.0\n",
      "  Downloading click-8.1.8-py3-none-any.whl (98 kB)\n",
      "\u001b[K     |████████████████████████████████| 98 kB 3.7 MB/s eta 0:00:01\n",
      "\u001b[?25hInstalling collected packages: tomli, pathspec, click, black\n",
      "Successfully installed black-25.1.0 click-8.1.8 pathspec-0.12.1 tomli-2.2.1\n",
      "\u001b[33mWARNING: You are using pip version 21.2.4; however, version 25.0.1 is available.\n",
      "You should consider upgrading via the '/Library/Developer/CommandLineTools/usr/bin/python3 -m pip install --upgrade pip' command.\u001b[0m\n"
     ]
    }
   ],
   "source": [
    "!pip3 install black"
   ]
  },
  {
   "cell_type": "code",
   "execution_count": 21,
   "metadata": {},
   "outputs": [
    {
     "ename": "ImportError",
     "evalue": "Could not import faiss python package. Please install it with `pip install faiss-gpu` (for CUDA supported GPU) or `pip install faiss-cpu` (depending on Python version).",
     "output_type": "error",
     "traceback": [
      "\u001b[0;31m---------------------------------------------------------------------------\u001b[0m",
      "\u001b[0;31mModuleNotFoundError\u001b[0m                       Traceback (most recent call last)",
      "File \u001b[0;32m~/Documents/ABP_PGD_Unit-6_FinalProject_DSAB05030_Zadid-Ahsan-Nabi/Rag_App_Emotion-Blackhole_ABP_PGD_DSBA05030_Zadid-Ahsan-Nabi/.venv/lib/python3.9/site-packages/langchain_community/vectorstores/faiss.py:56\u001b[0m, in \u001b[0;36mdependable_faiss_import\u001b[0;34m(no_avx2)\u001b[0m\n\u001b[1;32m     55\u001b[0m     \u001b[38;5;28;01melse\u001b[39;00m:\n\u001b[0;32m---> 56\u001b[0m         \u001b[38;5;28;01mimport\u001b[39;00m\u001b[38;5;250m \u001b[39m\u001b[38;5;21;01mfaiss\u001b[39;00m\n\u001b[1;32m     57\u001b[0m \u001b[38;5;28;01mexcept\u001b[39;00m \u001b[38;5;167;01mImportError\u001b[39;00m:\n",
      "\u001b[0;31mModuleNotFoundError\u001b[0m: No module named 'faiss'",
      "\nDuring handling of the above exception, another exception occurred:\n",
      "\u001b[0;31mImportError\u001b[0m                               Traceback (most recent call last)",
      "Cell \u001b[0;32mIn[21], line 5\u001b[0m\n\u001b[1;32m      2\u001b[0m \u001b[38;5;28;01mfrom\u001b[39;00m\u001b[38;5;250m \u001b[39m\u001b[38;5;21;01mlangchain\u001b[39;00m\u001b[38;5;21;01m.\u001b[39;00m\u001b[38;5;21;01mvectorstores\u001b[39;00m\u001b[38;5;250m \u001b[39m\u001b[38;5;28;01mimport\u001b[39;00m FAISS\n\u001b[1;32m      4\u001b[0m embedding_model \u001b[38;5;241m=\u001b[39m OllamaEmbeddings(model\u001b[38;5;241m=\u001b[39m\u001b[38;5;124m\"\u001b[39m\u001b[38;5;124mnomic-embed-text\u001b[39m\u001b[38;5;124m\"\u001b[39m)\n\u001b[0;32m----> 5\u001b[0m vector_store \u001b[38;5;241m=\u001b[39m \u001b[43mFAISS\u001b[49m\u001b[38;5;241;43m.\u001b[39;49m\u001b[43mfrom_documents\u001b[49m\u001b[43m(\u001b[49m\u001b[43mdocs\u001b[49m\u001b[43m,\u001b[49m\u001b[43membedding_model\u001b[49m\u001b[43m)\u001b[49m\n\u001b[1;32m      6\u001b[0m vector_store\u001b[38;5;241m.\u001b[39msave_local(\u001b[38;5;124m\"\u001b[39m\u001b[38;5;124mfaiss_index\u001b[39m\u001b[38;5;124m\"\u001b[39m)\n",
      "File \u001b[0;32m~/Documents/ABP_PGD_Unit-6_FinalProject_DSAB05030_Zadid-Ahsan-Nabi/Rag_App_Emotion-Blackhole_ABP_PGD_DSBA05030_Zadid-Ahsan-Nabi/.venv/lib/python3.9/site-packages/langchain_core/vectorstores/base.py:843\u001b[0m, in \u001b[0;36mVectorStore.from_documents\u001b[0;34m(cls, documents, embedding, **kwargs)\u001b[0m\n\u001b[1;32m    840\u001b[0m     \u001b[38;5;28;01mif\u001b[39;00m \u001b[38;5;28many\u001b[39m(ids):\n\u001b[1;32m    841\u001b[0m         kwargs[\u001b[38;5;124m\"\u001b[39m\u001b[38;5;124mids\u001b[39m\u001b[38;5;124m\"\u001b[39m] \u001b[38;5;241m=\u001b[39m ids\n\u001b[0;32m--> 843\u001b[0m \u001b[38;5;28;01mreturn\u001b[39;00m \u001b[38;5;28;43mcls\u001b[39;49m\u001b[38;5;241;43m.\u001b[39;49m\u001b[43mfrom_texts\u001b[49m\u001b[43m(\u001b[49m\u001b[43mtexts\u001b[49m\u001b[43m,\u001b[49m\u001b[43m \u001b[49m\u001b[43membedding\u001b[49m\u001b[43m,\u001b[49m\u001b[43m \u001b[49m\u001b[43mmetadatas\u001b[49m\u001b[38;5;241;43m=\u001b[39;49m\u001b[43mmetadatas\u001b[49m\u001b[43m,\u001b[49m\u001b[43m \u001b[49m\u001b[38;5;241;43m*\u001b[39;49m\u001b[38;5;241;43m*\u001b[39;49m\u001b[43mkwargs\u001b[49m\u001b[43m)\u001b[49m\n",
      "File \u001b[0;32m~/Documents/ABP_PGD_Unit-6_FinalProject_DSAB05030_Zadid-Ahsan-Nabi/Rag_App_Emotion-Blackhole_ABP_PGD_DSBA05030_Zadid-Ahsan-Nabi/.venv/lib/python3.9/site-packages/langchain_community/vectorstores/faiss.py:1044\u001b[0m, in \u001b[0;36mFAISS.from_texts\u001b[0;34m(cls, texts, embedding, metadatas, ids, **kwargs)\u001b[0m\n\u001b[1;32m   1025\u001b[0m \u001b[38;5;250m\u001b[39m\u001b[38;5;124;03m\"\"\"Construct FAISS wrapper from raw documents.\u001b[39;00m\n\u001b[1;32m   1026\u001b[0m \n\u001b[1;32m   1027\u001b[0m \u001b[38;5;124;03mThis is a user friendly interface that:\u001b[39;00m\n\u001b[0;32m   (...)\u001b[0m\n\u001b[1;32m   1041\u001b[0m \u001b[38;5;124;03m        faiss = FAISS.from_texts(texts, embeddings)\u001b[39;00m\n\u001b[1;32m   1042\u001b[0m \u001b[38;5;124;03m\"\"\"\u001b[39;00m\n\u001b[1;32m   1043\u001b[0m embeddings \u001b[38;5;241m=\u001b[39m embedding\u001b[38;5;241m.\u001b[39membed_documents(texts)\n\u001b[0;32m-> 1044\u001b[0m \u001b[38;5;28;01mreturn\u001b[39;00m \u001b[38;5;28;43mcls\u001b[39;49m\u001b[38;5;241;43m.\u001b[39;49m\u001b[43m__from\u001b[49m\u001b[43m(\u001b[49m\n\u001b[1;32m   1045\u001b[0m \u001b[43m    \u001b[49m\u001b[43mtexts\u001b[49m\u001b[43m,\u001b[49m\n\u001b[1;32m   1046\u001b[0m \u001b[43m    \u001b[49m\u001b[43membeddings\u001b[49m\u001b[43m,\u001b[49m\n\u001b[1;32m   1047\u001b[0m \u001b[43m    \u001b[49m\u001b[43membedding\u001b[49m\u001b[43m,\u001b[49m\n\u001b[1;32m   1048\u001b[0m \u001b[43m    \u001b[49m\u001b[43mmetadatas\u001b[49m\u001b[38;5;241;43m=\u001b[39;49m\u001b[43mmetadatas\u001b[49m\u001b[43m,\u001b[49m\n\u001b[1;32m   1049\u001b[0m \u001b[43m    \u001b[49m\u001b[43mids\u001b[49m\u001b[38;5;241;43m=\u001b[39;49m\u001b[43mids\u001b[49m\u001b[43m,\u001b[49m\n\u001b[1;32m   1050\u001b[0m \u001b[43m    \u001b[49m\u001b[38;5;241;43m*\u001b[39;49m\u001b[38;5;241;43m*\u001b[39;49m\u001b[43mkwargs\u001b[49m\u001b[43m,\u001b[49m\n\u001b[1;32m   1051\u001b[0m \u001b[43m\u001b[49m\u001b[43m)\u001b[49m\n",
      "File \u001b[0;32m~/Documents/ABP_PGD_Unit-6_FinalProject_DSAB05030_Zadid-Ahsan-Nabi/Rag_App_Emotion-Blackhole_ABP_PGD_DSBA05030_Zadid-Ahsan-Nabi/.venv/lib/python3.9/site-packages/langchain_community/vectorstores/faiss.py:996\u001b[0m, in \u001b[0;36mFAISS.__from\u001b[0;34m(cls, texts, embeddings, embedding, metadatas, ids, normalize_L2, distance_strategy, **kwargs)\u001b[0m\n\u001b[1;32m    984\u001b[0m \u001b[38;5;129m@classmethod\u001b[39m\n\u001b[1;32m    985\u001b[0m \u001b[38;5;28;01mdef\u001b[39;00m\u001b[38;5;250m \u001b[39m\u001b[38;5;21m__from\u001b[39m(\n\u001b[1;32m    986\u001b[0m     \u001b[38;5;28mcls\u001b[39m,\n\u001b[0;32m   (...)\u001b[0m\n\u001b[1;32m    994\u001b[0m     \u001b[38;5;241m*\u001b[39m\u001b[38;5;241m*\u001b[39mkwargs: Any,\n\u001b[1;32m    995\u001b[0m ) \u001b[38;5;241m-\u001b[39m\u001b[38;5;241m>\u001b[39m FAISS:\n\u001b[0;32m--> 996\u001b[0m     faiss \u001b[38;5;241m=\u001b[39m \u001b[43mdependable_faiss_import\u001b[49m\u001b[43m(\u001b[49m\u001b[43m)\u001b[49m\n\u001b[1;32m    997\u001b[0m     \u001b[38;5;28;01mif\u001b[39;00m distance_strategy \u001b[38;5;241m==\u001b[39m DistanceStrategy\u001b[38;5;241m.\u001b[39mMAX_INNER_PRODUCT:\n\u001b[1;32m    998\u001b[0m         index \u001b[38;5;241m=\u001b[39m faiss\u001b[38;5;241m.\u001b[39mIndexFlatIP(\u001b[38;5;28mlen\u001b[39m(embeddings[\u001b[38;5;241m0\u001b[39m]))\n",
      "File \u001b[0;32m~/Documents/ABP_PGD_Unit-6_FinalProject_DSAB05030_Zadid-Ahsan-Nabi/Rag_App_Emotion-Blackhole_ABP_PGD_DSBA05030_Zadid-Ahsan-Nabi/.venv/lib/python3.9/site-packages/langchain_community/vectorstores/faiss.py:58\u001b[0m, in \u001b[0;36mdependable_faiss_import\u001b[0;34m(no_avx2)\u001b[0m\n\u001b[1;32m     56\u001b[0m         \u001b[38;5;28;01mimport\u001b[39;00m\u001b[38;5;250m \u001b[39m\u001b[38;5;21;01mfaiss\u001b[39;00m\n\u001b[1;32m     57\u001b[0m \u001b[38;5;28;01mexcept\u001b[39;00m \u001b[38;5;167;01mImportError\u001b[39;00m:\n\u001b[0;32m---> 58\u001b[0m     \u001b[38;5;28;01mraise\u001b[39;00m \u001b[38;5;167;01mImportError\u001b[39;00m(\n\u001b[1;32m     59\u001b[0m         \u001b[38;5;124m\"\u001b[39m\u001b[38;5;124mCould not import faiss python package. \u001b[39m\u001b[38;5;124m\"\u001b[39m\n\u001b[1;32m     60\u001b[0m         \u001b[38;5;124m\"\u001b[39m\u001b[38;5;124mPlease install it with `pip install faiss-gpu` (for CUDA supported GPU) \u001b[39m\u001b[38;5;124m\"\u001b[39m\n\u001b[1;32m     61\u001b[0m         \u001b[38;5;124m\"\u001b[39m\u001b[38;5;124mor `pip install faiss-cpu` (depending on Python version).\u001b[39m\u001b[38;5;124m\"\u001b[39m\n\u001b[1;32m     62\u001b[0m     )\n\u001b[1;32m     63\u001b[0m \u001b[38;5;28;01mreturn\u001b[39;00m faiss\n",
      "\u001b[0;31mImportError\u001b[0m: Could not import faiss python package. Please install it with `pip install faiss-gpu` (for CUDA supported GPU) or `pip install faiss-cpu` (depending on Python version)."
     ]
    }
   ],
   "source": [
    "from langchain_ollama import OllamaEmbeddings\n",
    "from langchain.vectorstores import FAISS\n",
    "\n",
    "embedding_model = OllamaEmbeddings(model=\"nomic-embed-text\")\n",
    "vector_store = FAISS.from_documents(docs,embedding_model)\n",
    "vector_store.save_local(\"faiss_index\")"
   ]
  },
  {
   "cell_type": "code",
   "execution_count": 22,
   "metadata": {},
   "outputs": [
    {
     "name": "stdout",
     "output_type": "stream",
     "text": [
      "zsh:1: /Users/zadidahsan/Documents/ABP_PGD_Unit-6_FinalProject_DSAB05030_Zadid-Ahsan-Nabi/Rag_App_Emotion-Blackhole_ABP_PGD_DSBA05030_Zadid-Ahsan-Nabi/.venv/bin/pip3: bad interpreter: /Users/zadidahsan/Documents/ABP_PGD_Unit-6_FinalProject_DSAB05030_Zadid-Ahsan-Nabi/abp_rag_app_practice/.venv/bin/python: no such file or directory\n",
      "Requirement already satisfied: langchain-ollama in /Users/zadidahsan/Library/Python/3.9/lib/python/site-packages (0.2.3)\n",
      "Requirement already satisfied: langchain-core<0.4.0,>=0.3.33 in /Users/zadidahsan/Library/Python/3.9/lib/python/site-packages (from langchain-ollama) (0.3.40)\n",
      "Requirement already satisfied: ollama<1,>=0.4.4 in /Users/zadidahsan/Library/Python/3.9/lib/python/site-packages (from langchain-ollama) (0.4.7)\n",
      "Requirement already satisfied: jsonpatch<2.0,>=1.33 in /Users/zadidahsan/Library/Python/3.9/lib/python/site-packages (from langchain-core<0.4.0,>=0.3.33->langchain-ollama) (1.33)\n",
      "Requirement already satisfied: pydantic<3.0.0,>=2.5.2 in /Users/zadidahsan/Library/Python/3.9/lib/python/site-packages (from langchain-core<0.4.0,>=0.3.33->langchain-ollama) (2.10.6)\n",
      "Requirement already satisfied: tenacity!=8.4.0,<10.0.0,>=8.1.0 in /Users/zadidahsan/Library/Python/3.9/lib/python/site-packages (from langchain-core<0.4.0,>=0.3.33->langchain-ollama) (9.0.0)\n",
      "Requirement already satisfied: PyYAML>=5.3 in /Users/zadidahsan/Library/Python/3.9/lib/python/site-packages (from langchain-core<0.4.0,>=0.3.33->langchain-ollama) (6.0.2)\n",
      "Requirement already satisfied: typing-extensions>=4.7 in /Users/zadidahsan/Library/Python/3.9/lib/python/site-packages (from langchain-core<0.4.0,>=0.3.33->langchain-ollama) (4.12.2)\n",
      "Requirement already satisfied: packaging<25,>=23.2 in /Users/zadidahsan/Library/Python/3.9/lib/python/site-packages (from langchain-core<0.4.0,>=0.3.33->langchain-ollama) (24.2)\n",
      "Requirement already satisfied: langsmith<0.4,>=0.1.125 in /Users/zadidahsan/Library/Python/3.9/lib/python/site-packages (from langchain-core<0.4.0,>=0.3.33->langchain-ollama) (0.3.11)\n",
      "Requirement already satisfied: jsonpointer>=1.9 in /Users/zadidahsan/Library/Python/3.9/lib/python/site-packages (from jsonpatch<2.0,>=1.33->langchain-core<0.4.0,>=0.3.33->langchain-ollama) (3.0.0)\n",
      "Requirement already satisfied: zstandard<0.24.0,>=0.23.0 in /Users/zadidahsan/Library/Python/3.9/lib/python/site-packages (from langsmith<0.4,>=0.1.125->langchain-core<0.4.0,>=0.3.33->langchain-ollama) (0.23.0)\n",
      "Requirement already satisfied: requests-toolbelt<2.0.0,>=1.0.0 in /Users/zadidahsan/Library/Python/3.9/lib/python/site-packages (from langsmith<0.4,>=0.1.125->langchain-core<0.4.0,>=0.3.33->langchain-ollama) (1.0.0)\n",
      "Requirement already satisfied: requests<3,>=2 in /Users/zadidahsan/Library/Python/3.9/lib/python/site-packages (from langsmith<0.4,>=0.1.125->langchain-core<0.4.0,>=0.3.33->langchain-ollama) (2.32.3)\n",
      "Requirement already satisfied: httpx<1,>=0.23.0 in /Users/zadidahsan/Library/Python/3.9/lib/python/site-packages (from langsmith<0.4,>=0.1.125->langchain-core<0.4.0,>=0.3.33->langchain-ollama) (0.28.1)\n",
      "Requirement already satisfied: orjson<4.0.0,>=3.9.14 in /Users/zadidahsan/Library/Python/3.9/lib/python/site-packages (from langsmith<0.4,>=0.1.125->langchain-core<0.4.0,>=0.3.33->langchain-ollama) (3.10.15)\n",
      "Requirement already satisfied: anyio in /Users/zadidahsan/Library/Python/3.9/lib/python/site-packages (from httpx<1,>=0.23.0->langsmith<0.4,>=0.1.125->langchain-core<0.4.0,>=0.3.33->langchain-ollama) (4.8.0)\n",
      "Requirement already satisfied: certifi in /Users/zadidahsan/Library/Python/3.9/lib/python/site-packages (from httpx<1,>=0.23.0->langsmith<0.4,>=0.1.125->langchain-core<0.4.0,>=0.3.33->langchain-ollama) (2025.1.31)\n",
      "Requirement already satisfied: idna in /Users/zadidahsan/Library/Python/3.9/lib/python/site-packages (from httpx<1,>=0.23.0->langsmith<0.4,>=0.1.125->langchain-core<0.4.0,>=0.3.33->langchain-ollama) (3.10)\n",
      "Requirement already satisfied: httpcore==1.* in /Users/zadidahsan/Library/Python/3.9/lib/python/site-packages (from httpx<1,>=0.23.0->langsmith<0.4,>=0.1.125->langchain-core<0.4.0,>=0.3.33->langchain-ollama) (1.0.7)\n",
      "Requirement already satisfied: h11<0.15,>=0.13 in /Users/zadidahsan/Library/Python/3.9/lib/python/site-packages (from httpcore==1.*->httpx<1,>=0.23.0->langsmith<0.4,>=0.1.125->langchain-core<0.4.0,>=0.3.33->langchain-ollama) (0.14.0)\n",
      "Requirement already satisfied: annotated-types>=0.6.0 in /Users/zadidahsan/Library/Python/3.9/lib/python/site-packages (from pydantic<3.0.0,>=2.5.2->langchain-core<0.4.0,>=0.3.33->langchain-ollama) (0.7.0)\n",
      "Requirement already satisfied: pydantic-core==2.27.2 in /Users/zadidahsan/Library/Python/3.9/lib/python/site-packages (from pydantic<3.0.0,>=2.5.2->langchain-core<0.4.0,>=0.3.33->langchain-ollama) (2.27.2)\n",
      "Requirement already satisfied: urllib3<3,>=1.21.1 in /Users/zadidahsan/Library/Python/3.9/lib/python/site-packages (from requests<3,>=2->langsmith<0.4,>=0.1.125->langchain-core<0.4.0,>=0.3.33->langchain-ollama) (2.3.0)\n",
      "Requirement already satisfied: charset-normalizer<4,>=2 in /Users/zadidahsan/Library/Python/3.9/lib/python/site-packages (from requests<3,>=2->langsmith<0.4,>=0.1.125->langchain-core<0.4.0,>=0.3.33->langchain-ollama) (3.4.1)\n",
      "Requirement already satisfied: sniffio>=1.1 in /Users/zadidahsan/Library/Python/3.9/lib/python/site-packages (from anyio->httpx<1,>=0.23.0->langsmith<0.4,>=0.1.125->langchain-core<0.4.0,>=0.3.33->langchain-ollama) (1.3.1)\n",
      "Requirement already satisfied: exceptiongroup>=1.0.2 in /Users/zadidahsan/Library/Python/3.9/lib/python/site-packages (from anyio->httpx<1,>=0.23.0->langsmith<0.4,>=0.1.125->langchain-core<0.4.0,>=0.3.33->langchain-ollama) (1.2.2)\n",
      "\u001b[33mWARNING: You are using pip version 21.1.3; however, version 25.0.1 is available.\n",
      "You should consider upgrading via the '/Library/Frameworks/Python.framework/Versions/3.9/bin/python3.9 -m pip install --upgrade pip' command.\u001b[0m\n"
     ]
    }
   ],
   "source": [
    "!pip3 install --upgrade langchain-ollama\n"
   ]
  },
  {
   "cell_type": "code",
   "execution_count": 23,
   "metadata": {},
   "outputs": [
    {
     "name": "stdout",
     "output_type": "stream",
     "text": [
      "NAME                       ID              SIZE      MODIFIED   \n",
      "nomic-embed-text:latest    0a109f422b47    274 MB    2 days ago    \n",
      "phi3:latest                4f2222927938    2.2 GB    2 days ago    \n",
      "deepseek-r1:8b             28f8fd6cdc67    4.9 GB    2 days ago    \n",
      "deepseek-llm:latest        9aab369a853b    4.0 GB    5 days ago    \n"
     ]
    }
   ],
   "source": [
    "!ollama list"
   ]
  },
  {
   "cell_type": "code",
   "execution_count": 24,
   "metadata": {},
   "outputs": [
    {
     "ename": "ImportError",
     "evalue": "Could not import faiss python package. Please install it with `pip install faiss-gpu` (for CUDA supported GPU) or `pip install faiss-cpu` (depending on Python version).",
     "output_type": "error",
     "traceback": [
      "\u001b[0;31m---------------------------------------------------------------------------\u001b[0m",
      "\u001b[0;31mModuleNotFoundError\u001b[0m                       Traceback (most recent call last)",
      "File \u001b[0;32m~/Documents/ABP_PGD_Unit-6_FinalProject_DSAB05030_Zadid-Ahsan-Nabi/Rag_App_Emotion-Blackhole_ABP_PGD_DSBA05030_Zadid-Ahsan-Nabi/.venv/lib/python3.9/site-packages/langchain_community/vectorstores/faiss.py:56\u001b[0m, in \u001b[0;36mdependable_faiss_import\u001b[0;34m(no_avx2)\u001b[0m\n\u001b[1;32m     55\u001b[0m     \u001b[38;5;28;01melse\u001b[39;00m:\n\u001b[0;32m---> 56\u001b[0m         \u001b[38;5;28;01mimport\u001b[39;00m\u001b[38;5;250m \u001b[39m\u001b[38;5;21;01mfaiss\u001b[39;00m\n\u001b[1;32m     57\u001b[0m \u001b[38;5;28;01mexcept\u001b[39;00m \u001b[38;5;167;01mImportError\u001b[39;00m:\n",
      "\u001b[0;31mModuleNotFoundError\u001b[0m: No module named 'faiss'",
      "\nDuring handling of the above exception, another exception occurred:\n",
      "\u001b[0;31mImportError\u001b[0m                               Traceback (most recent call last)",
      "Cell \u001b[0;32mIn[24], line 5\u001b[0m\n\u001b[1;32m      2\u001b[0m \u001b[38;5;28;01mfrom\u001b[39;00m\u001b[38;5;250m \u001b[39m\u001b[38;5;21;01mlangchain\u001b[39;00m\u001b[38;5;21;01m.\u001b[39;00m\u001b[38;5;21;01mchains\u001b[39;00m\u001b[38;5;250m \u001b[39m\u001b[38;5;28;01mimport\u001b[39;00m RetrievalQA\n\u001b[1;32m      4\u001b[0m \u001b[38;5;66;03m# Load FAISS index\u001b[39;00m\n\u001b[0;32m----> 5\u001b[0m retriever \u001b[38;5;241m=\u001b[39m \u001b[43mFAISS\u001b[49m\u001b[38;5;241;43m.\u001b[39;49m\u001b[43mload_local\u001b[49m\u001b[43m(\u001b[49m\u001b[38;5;124;43m\"\u001b[39;49m\u001b[38;5;124;43mfaiss_index\u001b[39;49m\u001b[38;5;124;43m\"\u001b[39;49m\u001b[43m,\u001b[49m\u001b[43membedding_model\u001b[49m\u001b[43m,\u001b[49m\u001b[43mallow_dangerous_deserialization\u001b[49m\u001b[38;5;241;43m=\u001b[39;49m\u001b[38;5;28;43;01mTrue\u001b[39;49;00m\u001b[43m)\u001b[49m\u001b[38;5;241m.\u001b[39mas_retriever()\n\u001b[1;32m      7\u001b[0m \u001b[38;5;66;03m# Define local RAG pipeline with Ollama\u001b[39;00m\n\u001b[1;32m      8\u001b[0m rag_chain \u001b[38;5;241m=\u001b[39m RetrievalQA\u001b[38;5;241m.\u001b[39mfrom_chain_type(llm\u001b[38;5;241m=\u001b[39mOllama(model\u001b[38;5;241m=\u001b[39m\u001b[38;5;124m\"\u001b[39m\u001b[38;5;124mphi3:latest\u001b[39m\u001b[38;5;124m\"\u001b[39m),retriever\u001b[38;5;241m=\u001b[39mretriever)\n",
      "File \u001b[0;32m~/Documents/ABP_PGD_Unit-6_FinalProject_DSAB05030_Zadid-Ahsan-Nabi/Rag_App_Emotion-Blackhole_ABP_PGD_DSBA05030_Zadid-Ahsan-Nabi/.venv/lib/python3.9/site-packages/langchain_community/vectorstores/faiss.py:1204\u001b[0m, in \u001b[0;36mFAISS.load_local\u001b[0;34m(cls, folder_path, embeddings, index_name, allow_dangerous_deserialization, **kwargs)\u001b[0m\n\u001b[1;32m   1202\u001b[0m path \u001b[38;5;241m=\u001b[39m Path(folder_path)\n\u001b[1;32m   1203\u001b[0m \u001b[38;5;66;03m# load index separately since it is not picklable\u001b[39;00m\n\u001b[0;32m-> 1204\u001b[0m faiss \u001b[38;5;241m=\u001b[39m \u001b[43mdependable_faiss_import\u001b[49m\u001b[43m(\u001b[49m\u001b[43m)\u001b[49m\n\u001b[1;32m   1205\u001b[0m index \u001b[38;5;241m=\u001b[39m faiss\u001b[38;5;241m.\u001b[39mread_index(\u001b[38;5;28mstr\u001b[39m(path \u001b[38;5;241m/\u001b[39m \u001b[38;5;124mf\u001b[39m\u001b[38;5;124m\"\u001b[39m\u001b[38;5;132;01m{\u001b[39;00mindex_name\u001b[38;5;132;01m}\u001b[39;00m\u001b[38;5;124m.faiss\u001b[39m\u001b[38;5;124m\"\u001b[39m))\n\u001b[1;32m   1207\u001b[0m \u001b[38;5;66;03m# load docstore and index_to_docstore_id\u001b[39;00m\n",
      "File \u001b[0;32m~/Documents/ABP_PGD_Unit-6_FinalProject_DSAB05030_Zadid-Ahsan-Nabi/Rag_App_Emotion-Blackhole_ABP_PGD_DSBA05030_Zadid-Ahsan-Nabi/.venv/lib/python3.9/site-packages/langchain_community/vectorstores/faiss.py:58\u001b[0m, in \u001b[0;36mdependable_faiss_import\u001b[0;34m(no_avx2)\u001b[0m\n\u001b[1;32m     56\u001b[0m         \u001b[38;5;28;01mimport\u001b[39;00m\u001b[38;5;250m \u001b[39m\u001b[38;5;21;01mfaiss\u001b[39;00m\n\u001b[1;32m     57\u001b[0m \u001b[38;5;28;01mexcept\u001b[39;00m \u001b[38;5;167;01mImportError\u001b[39;00m:\n\u001b[0;32m---> 58\u001b[0m     \u001b[38;5;28;01mraise\u001b[39;00m \u001b[38;5;167;01mImportError\u001b[39;00m(\n\u001b[1;32m     59\u001b[0m         \u001b[38;5;124m\"\u001b[39m\u001b[38;5;124mCould not import faiss python package. \u001b[39m\u001b[38;5;124m\"\u001b[39m\n\u001b[1;32m     60\u001b[0m         \u001b[38;5;124m\"\u001b[39m\u001b[38;5;124mPlease install it with `pip install faiss-gpu` (for CUDA supported GPU) \u001b[39m\u001b[38;5;124m\"\u001b[39m\n\u001b[1;32m     61\u001b[0m         \u001b[38;5;124m\"\u001b[39m\u001b[38;5;124mor `pip install faiss-cpu` (depending on Python version).\u001b[39m\u001b[38;5;124m\"\u001b[39m\n\u001b[1;32m     62\u001b[0m     )\n\u001b[1;32m     63\u001b[0m \u001b[38;5;28;01mreturn\u001b[39;00m faiss\n",
      "\u001b[0;31mImportError\u001b[0m: Could not import faiss python package. Please install it with `pip install faiss-gpu` (for CUDA supported GPU) or `pip install faiss-cpu` (depending on Python version)."
     ]
    }
   ],
   "source": [
    "from langchain.llms import Ollama\n",
    "from langchain.chains import RetrievalQA\n",
    "\n",
    "# Load FAISS index\n",
    "retriever = FAISS.load_local(\"faiss_index\",embedding_model,allow_dangerous_deserialization=True).as_retriever()\n",
    "\n",
    "# Define local RAG pipeline with Ollama\n",
    "rag_chain = RetrievalQA.from_chain_type(llm=Ollama(model=\"phi3:latest\"),retriever=retriever)\n",
    "\n",
    "query = \"What are the characteristics of an emotional blackhole?\"\n",
    "rag_chain.invoke(query)"
   ]
  },
  {
   "cell_type": "code",
   "execution_count": null,
   "metadata": {},
   "outputs": [],
   "source": []
  },
  {
   "cell_type": "code",
   "execution_count": null,
   "metadata": {},
   "outputs": [],
   "source": []
  },
  {
   "cell_type": "code",
   "execution_count": null,
   "metadata": {},
   "outputs": [],
   "source": []
  },
  {
   "cell_type": "code",
   "execution_count": null,
   "metadata": {},
   "outputs": [],
   "source": []
  },
  {
   "cell_type": "code",
   "execution_count": null,
   "metadata": {},
   "outputs": [],
   "source": []
  },
  {
   "cell_type": "code",
   "execution_count": null,
   "metadata": {},
   "outputs": [],
   "source": []
  },
  {
   "cell_type": "code",
   "execution_count": null,
   "metadata": {},
   "outputs": [],
   "source": []
  }
 ],
 "metadata": {
  "kernelspec": {
   "display_name": ".venv",
   "language": "python",
   "name": "python3"
  },
  "language_info": {
   "codemirror_mode": {
    "name": "ipython",
    "version": 3
   },
   "file_extension": ".py",
   "mimetype": "text/x-python",
   "name": "python",
   "nbconvert_exporter": "python",
   "pygments_lexer": "ipython3",
   "version": "3.9.6"
  }
 },
 "nbformat": 4,
 "nbformat_minor": 2
}
